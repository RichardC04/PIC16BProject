{
 "cells": [
  {
   "cell_type": "code",
   "execution_count": 2,
   "id": "4327f9d8-f9f8-41f4-9b49-6c6bfc7d3705",
   "metadata": {
    "tags": []
   },
   "outputs": [],
   "source": [
    "from selenium import webdriver\n",
    "from selenium.webdriver.chrome.service import Service as ChromeService\n",
    "from webdriver_manager.chrome import ChromeDriverManager\n",
    "from selenium.webdriver.common.by import By\n",
    "from bs4 import BeautifulSoup\n",
    "import time\n",
    "import pandas as pd\n",
    "\n",
    "def get_role_data(role=\"TOP\"):\n",
    "    driver = webdriver.Chrome(service=ChromeService(ChromeDriverManager().install()))\n",
    "    driver.get(\"https://gol.gg/players/list/season-S15/split-ALL/tournament-LCK%20Spring%202024/\")\n",
    "\n",
    "    extracted_data = {}\n",
    "\n",
    "    try:\n",
    "        # 2) Locate the hidden input and set it to 'role'\n",
    "        hidden_role = driver.find_element(By.ID, \"hiddenfieldrole\")\n",
    "        driver.execute_script(\"arguments[0].value = arguments[1];\", hidden_role, role)\n",
    "\n",
    "        # 3) Locate and submit the form\n",
    "        form = driver.find_element(By.ID, \"FilterForm\")\n",
    "        form.submit()\n",
    "\n",
    "        # 4) Wait for the new page to load\n",
    "        time.sleep(5)  # or use an explicit wait if needed\n",
    "\n",
    "        # 5) Parse the updated page with BeautifulSoup\n",
    "        soup = BeautifulSoup(driver.page_source, 'html.parser')\n",
    "\n",
    "        # 6) Locate the updated table\n",
    "        table = soup.select_one(\"table.table_list.playerslist.tablesaw.trhover.tablesaw-swipe.tablesaw-sortable\")\n",
    "        if table:\n",
    "            # Extract rows\n",
    "            rows = table.find_all('tr')\n",
    "            table_data = []\n",
    "            for row in rows:\n",
    "                cells = row.find_all(['td', 'th'])\n",
    "                cell_texts = [cell.get_text(strip=True) for cell in cells]\n",
    "                if cell_texts:\n",
    "                    table_data.append(cell_texts)\n",
    "\n",
    "            # Build a dict-of-dicts from the table\n",
    "            if len(table_data) > 1:\n",
    "                headers = table_data[0]  # first row: column names\n",
    "                for i in range(1, len(table_data)):\n",
    "                    row_key = table_data[i][0]  # e.g. player name\n",
    "                    row_dict = {}\n",
    "                    for j in range(1, len(headers)):\n",
    "                        if j < len(table_data[i]):\n",
    "                            row_dict[headers[j]] = table_data[i][j]\n",
    "                    extracted_data[row_key] = row_dict\n",
    "            else:\n",
    "                print(\"No valid data rows found for role:\", role)\n",
    "        else:\n",
    "            print(\"Table not found for role:\", role)\n",
    "\n",
    "    finally:\n",
    "        # 7) Close the browser\n",
    "        driver.quit()\n",
    "\n",
    "    return extracted_data"
   ]
  },
  {
   "cell_type": "code",
   "execution_count": 3,
   "id": "ceec91cc-ef43-4b84-a27d-987f142b0165",
   "metadata": {},
   "outputs": [],
   "source": [
    "top_data = get_role_data(role=\"TOP\")\n",
    "jg_data = get_role_data(role=\"JUNGLE\")\n",
    "mid_data = get_role_data(role=\"MID\")\n",
    "support_data = get_role_data(role=\"SUPPORT\")\n",
    "bot_data = get_role_data(role=\"ADC\")"
   ]
  },
  {
   "cell_type": "code",
   "execution_count": 4,
   "id": "3caa28fd-d1a1-40a9-b9d7-ba5d1de3943e",
   "metadata": {},
   "outputs": [],
   "source": [
    "import os\n",
    "\n",
    "os.makedirs('data', exist_ok=True)\n",
    "\n",
    "roles_dict = {\n",
    "    'top_data': top_data,\n",
    "    'jg_data': jg_data,\n",
    "    'mid_data': mid_data,\n",
    "    'support_data': support_data,\n",
    "    'bot_data': bot_data\n",
    "}\n",
    "\n",
    "for role_name, role_dict in roles_dict.items():\n",
    "    df = pd.DataFrame(role_dict)\n",
    "    df.to_csv(f'data/{role_name}.csv', index=False)"
   ]
  }
 ],
 "metadata": {
  "kernelspec": {
   "display_name": "Python [conda env:PIC16B-25W-project]",
   "language": "python",
   "name": "conda-env-PIC16B-25W-project-py"
  },
  "language_info": {
   "codemirror_mode": {
    "name": "ipython",
    "version": 3
   },
   "file_extension": ".py",
   "mimetype": "text/x-python",
   "name": "python",
   "nbconvert_exporter": "python",
   "pygments_lexer": "ipython3",
   "version": "3.11.6"
  }
 },
 "nbformat": 4,
 "nbformat_minor": 5
}
