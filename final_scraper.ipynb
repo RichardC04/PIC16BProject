{
 "cells": [
  {
   "cell_type": "code",
   "execution_count": 1,
   "id": "0d103130-b889-445f-912c-6da4f7a23eb4",
   "metadata": {},
   "outputs": [],
   "source": [
    "from selenium import webdriver\n",
    "from selenium.webdriver.chrome.service import Service as ChromeService\n",
    "from webdriver_manager.chrome import ChromeDriverManager\n",
    "from selenium.webdriver.common.by import By\n",
    "from selenium.webdriver.common.keys import Keys\n",
    "from bs4 import BeautifulSoup\n",
    "import time\n",
    "import pandas as pd\n",
    "import re"
   ]
  },
  {
   "cell_type": "code",
   "execution_count": 3,
   "id": "6d4a0133-5e61-4e78-b172-497b70384d47",
   "metadata": {
    "tags": []
   },
   "outputs": [],
   "source": [
    "from final_scraper import get_league_data #import the function"
   ]
  },
  {
   "cell_type": "code",
   "execution_count": null,
   "id": "b01cc4eb-aeea-43e8-a524-1b09814f204b",
   "metadata": {},
   "outputs": [],
   "source": [
    "teams_dict = {}\n",
    "for season in range(6, 15):\n",
    "    year = f\"S{season}\"\n",
    "    teams_dict.update(get_league_data(\"team\", \"ALL\", year)) #get team info from season 6 to 15"
   ]
  },
  {
   "cell_type": "code",
   "execution_count": null,
   "id": "0ec9c388-b0ab-4ff8-b511-417ca85f9f6d",
   "metadata": {},
   "outputs": [],
   "source": [
    "teams = []\n",
    "for team_key, stats in teams_dict.items():\n",
    "    # Remove the trailing season part (e.g., \" S14\") from the team name\n",
    "    team_name = re.sub(r'\\s+S\\d+$', '', team_key)\n",
    "    # Build the row dictionary with a \"Team\" column and all the stats\n",
    "    row = {\"Team\": team_name}\n",
    "    row.update(stats)\n",
    "    teams.append(row)\n",
    "\n",
    "# Convert the list of rows into a DataFrame\n",
    "df_teams = pd.DataFrame(teams)\n",
    "\n",
    "# Save to CSV without an index column\n",
    "df_teams.to_csv(\"teams_stats.csv\", index=False) #this will be an essential file to use for future model making"
   ]
  },
  {
   "cell_type": "code",
   "execution_count": null,
   "id": "b90e6777-1032-4889-b925-7a10abfa3ce2",
   "metadata": {},
   "outputs": [],
   "source": [
    "roles = [\"TOP\", \"JUNGLE\", \"MID\", \"ADC\", \"SUPPORT\"]\n",
    "players_dict = {}\n",
    "\n",
    "for season in range(6, 15):\n",
    "    year = f\"S{season}\"\n",
    "    for role in roles:\n",
    "        players_dict.update(get_league_data(\"player\", \"ALL\", year, role))"
   ]
  },
  {
   "cell_type": "code",
   "execution_count": null,
   "id": "59ff05d1-927c-4811-ba75-a868f610a7fb",
   "metadata": {},
   "outputs": [],
   "source": [
    "players = []\n",
    "for player_key, stats in players_dict.items():\n",
    "    # Remove the trailing season (e.g., \" S14\") from the player key to get a clean player name\n",
    "    player_name = re.sub(r'\\s+S\\d+$', '', player_key)\n",
    "    # Create a row dictionary with \"Player\" as the cleaned name and add all stats\n",
    "    row = {\"Player\": player_name}\n",
    "    row.update(stats)\n",
    "    players.append(row)\n",
    "\n",
    "# Create the DataFrame\n",
    "df_players = pd.DataFrame(players)\n",
    "\n",
    "# Optionally, export to CSV without an index column\n",
    "df_players.to_csv(\"players_stats.csv\", index=False) #another essential file for model making"
   ]
  }
 ],
 "metadata": {
  "kernelspec": {
   "display_name": "Python 3 (ipykernel)",
   "language": "python",
   "name": "python3"
  },
  "language_info": {
   "codemirror_mode": {
    "name": "ipython",
    "version": 3
   },
   "file_extension": ".py",
   "mimetype": "text/x-python",
   "name": "python",
   "nbconvert_exporter": "python",
   "pygments_lexer": "ipython3",
   "version": "3.12.4"
  }
 },
 "nbformat": 4,
 "nbformat_minor": 5
}
