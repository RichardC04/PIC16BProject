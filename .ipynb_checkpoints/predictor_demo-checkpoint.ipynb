{
 "cells": [
  {
   "cell_type": "code",
   "execution_count": 1,
   "id": "c38205fd-8bb0-4c9b-8e99-af95c552227e",
   "metadata": {},
   "outputs": [
    {
     "name": "stderr",
     "output_type": "stream",
     "text": [
      "2025-03-21 22:27:17.168602: I tensorflow/core/util/port.cc:153] oneDNN custom operations are on. You may see slightly different numerical results due to floating-point round-off errors from different computation orders. To turn them off, set the environment variable `TF_ENABLE_ONEDNN_OPTS=0`.\n",
      "2025-03-21 22:27:17.178315: E external/local_xla/xla/stream_executor/cuda/cuda_fft.cc:477] Unable to register cuFFT factory: Attempting to register factory for plugin cuFFT when one has already been registered\n",
      "WARNING: All log messages before absl::InitializeLog() is called are written to STDERR\n",
      "E0000 00:00:1742621237.189544  399383 cuda_dnn.cc:8310] Unable to register cuDNN factory: Attempting to register factory for plugin cuDNN when one has already been registered\n",
      "E0000 00:00:1742621237.193032  399383 cuda_blas.cc:1418] Unable to register cuBLAS factory: Attempting to register factory for plugin cuBLAS when one has already been registered\n",
      "2025-03-21 22:27:17.204646: I tensorflow/core/platform/cpu_feature_guard.cc:210] This TensorFlow binary is optimized to use available CPU instructions in performance-critical operations.\n",
      "To enable the following instructions: AVX2 AVX_VNNI FMA, in other operations, rebuild TensorFlow with the appropriate compiler flags.\n"
     ]
    }
   ],
   "source": [
    "import pandas as pd\n",
    "import numpy as np\n",
    "import matplotlib.pyplot as plt\n",
    "import os\n",
    "import warnings\n",
    "warnings.filterwarnings('ignore')\n",
    "\n",
    "from lol_win_predictor import (\n",
    "    load_and_preprocess_data,\n",
    "    aggregate_players_by_team,\n",
    "    identify_key_features,\n",
    "    train_win_rate_model,\n",
    "    train_player_to_team_features,\n",
    "    predict_win_rate_from_players,\n",
    "    evaluate_team_composition,\n",
    "    print_team_analysis,\n",
    "    generate_random_player_stats,\n",
    "    create_team_variants,\n",
    "    create_optimal_team,\n",
    "    save_models,\n",
    "    load_models,\n",
    "    plot_team_comparison,\n",
    "    plot_role_impact,\n",
    "    plot_optimization_progress\n",
    ")"
   ]
  },
  {
   "cell_type": "code",
   "execution_count": 2,
   "id": "64330d86-42e8-43df-986b-3ed022e67835",
   "metadata": {},
   "outputs": [
    {
     "name": "stdout",
     "output_type": "stream",
     "text": [
      "\n",
      "Loading existing models from models/lol_models.pkl...\n"
     ]
    },
    {
     "name": "stderr",
     "output_type": "stream",
     "text": [
      "I0000 00:00:1742621238.628548  399383 gpu_device.cc:2022] Created device /job:localhost/replica:0/task:0/device:GPU:0 with 13499 MB memory:  -> device: 0, name: NVIDIA GeForce RTX 4080 SUPER, pci bus id: 0000:01:00.0, compute capability: 8.9\n"
     ]
    },
    {
     "name": "stdout",
     "output_type": "stream",
     "text": [
      "Models loaded from models/lol_models.pkl\n",
      "Models loaded successfully!\n",
      "\n",
      "Key features used for prediction: ['K:D', 'GPM', 'GDM', 'Kills / game', 'Towers killed', 'Towers lost', 'NASH%', 'DPM']\n"
     ]
    }
   ],
   "source": [
    "# Define folder paths\n",
    "models_folder = 'models'\n",
    "data_folder = 'data'\n",
    "\n",
    "# Create models folder if it doesn't exist\n",
    "if not os.path.exists(models_folder):\n",
    "    os.makedirs(models_folder)\n",
    "    print(f\"Created folder: {models_folder}\")\n",
    "\n",
    "model_file_path = os.path.join(models_folder, 'lol_models.pkl')\n",
    "\n",
    "if os.path.exists(model_file_path):\n",
    "    print(f\"\\nLoading existing models from {model_file_path}...\")\n",
    "    feature_to_win_rate_model, player_to_feature_models, key_features = load_models(models_folder)\n",
    "    print(\"Models loaded successfully!\")\n",
    "else:\n",
    "    print(f\"\\nNo existing models found at {model_file_path}. Training new models...\")\n",
    "    \n",
    "    # Load and preprocess data\n",
    "    df_players, df_teams = load_and_preprocess_data(data_folder)\n",
    "    \n",
    "    # Aggregate player statistics by team\n",
    "    print(\"\\nAggregating player statistics by team...\")\n",
    "    df_aggregated = aggregate_players_by_team(df_players)\n",
    "    \n",
    "    # Identify key features for predicting win rate\n",
    "    print(\"\\nIdentifying key team features for win rate prediction...\")\n",
    "    key_features = identify_key_features(df_teams, n_features=8)\n",
    "    \n",
    "    # Train model to predict win rate from team features\n",
    "    print(\"\\nTraining win rate prediction model using key team features...\")\n",
    "    feature_to_win_rate_model = train_win_rate_model(df_teams, key_features)\n",
    "    \n",
    "    # Train models to predict team features from player statistics\n",
    "    print(\"\\nTraining models to predict key team features from player statistics...\")\n",
    "    player_to_feature_models = train_player_to_team_features(df_aggregated, df_teams, key_features)\n",
    "    \n",
    "    # Save the trained models\n",
    "    save_models(feature_to_win_rate_model, player_to_feature_models, key_features, models_folder)\n",
    "\n",
    "print(f\"\\nKey features used for prediction: {key_features}\")"
   ]
  },
  {
   "cell_type": "code",
   "execution_count": 3,
   "id": "311d9b0c-df1f-4bb0-8ad7-ab402b7a5632",
   "metadata": {},
   "outputs": [],
   "source": [
    "strong_team = {\n",
    "    'TOP': {'KDA': 3.5, 'Avg kills': 2.8, 'Avg deaths': 1.8, 'Avg assists': 5.5, \n",
    "            'CSM': 8.5, 'GPM': 400, 'DMG%': 0.24, 'DPM': 480, 'Avg WPM': 0.65,\n",
    "            'GD@15': 150, 'CSD@15': 12, 'XPD@15': 200},\n",
    "    'JUNGLE': {'KDA': 4.0, 'Avg kills': 3.0, 'Avg deaths': 2.0, 'Avg assists': 9.0, \n",
    "               'CSM': 5.5, 'GPM': 380, 'DMG%': 0.19, 'DPM': 420, 'Avg WPM': 0.9,\n",
    "               'GD@15': 180, 'CSD@15': 15, 'XPD@15': 220},\n",
    "    'MID': {'KDA': 4.5, 'Avg kills': 4.2, 'Avg deaths': 1.6, 'Avg assists': 6.5, \n",
    "            'CSM': 9.0, 'GPM': 430, 'DMG%': 0.32, 'DPM': 550, 'Avg WPM': 0.6,\n",
    "            'GD@15': 200, 'CSD@15': 18, 'XPD@15': 250},\n",
    "    'ADC': {'KDA': 5.0, 'Avg kills': 4.8, 'Avg deaths': 1.3, 'Avg assists': 6.0, \n",
    "            'CSM': 9.5, 'GPM': 450, 'DMG%': 0.35, 'DPM': 600, 'Avg WPM': 0.5,\n",
    "            'GD@15': 250, 'CSD@15': 22, 'XPD@15': 280},\n",
    "    'SUPPORT': {'KDA': 4.5, 'Avg kills': 1.2, 'Avg deaths': 2.0, 'Avg assists': 14.0, \n",
    "                'CSM': 1.2, 'GPM': 280, 'DMG%': 0.12, 'DPM': 250, 'Avg WPM': 1.8,\n",
    "                'GD@15': 50, 'CSD@15': 2, 'XPD@15': 30}\n",
    "}\n",
    "\n",
    "# Create a weaker team\n",
    "weak_team = {\n",
    "    'TOP': {'KDA': 2.0, 'Avg kills': 1.5, 'Avg deaths': 3.0, 'Avg assists': 3.5, \n",
    "            'CSM': 7.0, 'GPM': 340, 'DMG%': 0.18, 'DPM': 380, 'Avg WPM': 0.4,\n",
    "            'GD@15': -150, 'CSD@15': -8, 'XPD@15': -120},\n",
    "    'JUNGLE': {'KDA': 2.2, 'Avg kills': 1.5, 'Avg deaths': 3.2, 'Avg assists': 5.5, \n",
    "               'CSM': 4.2, 'GPM': 320, 'DMG%': 0.15, 'DPM': 350, 'Avg WPM': 0.5,\n",
    "               'GD@15': -80, 'CSD@15': -6, 'XPD@15': -100},\n",
    "    'MID': {'KDA': 2.5, 'Avg kills': 2.2, 'Avg deaths': 3.0, 'Avg assists': 4.0, \n",
    "            'CSM': 7.2, 'GPM': 360, 'DMG%': 0.22, 'DPM': 400, 'Avg WPM': 0.4,\n",
    "            'GD@15': -100, 'CSD@15': -7, 'XPD@15': -150},\n",
    "    'ADC': {'KDA': 2.8, 'Avg kills': 2.5, 'Avg deaths': 2.8, 'Avg assists': 3.8, \n",
    "            'CSM': 7.8, 'GPM': 370, 'DMG%': 0.24, 'DPM': 420, 'Avg WPM': 0.3,\n",
    "            'GD@15': -50, 'CSD@15': -4, 'XPD@15': -80},\n",
    "    'SUPPORT': {'KDA': 2.2, 'Avg kills': 0.6, 'Avg deaths': 3.8, 'Avg assists': 7.5, \n",
    "                'CSM': 0.8, 'GPM': 220, 'DMG%': 0.07, 'DPM': 180, 'Avg WPM': 1.1,\n",
    "                'GD@15': -30, 'CSD@15': -2, 'XPD@15': -50}\n",
    "}\n",
    "\n",
    "# Generate a random team\n",
    "random_team = generate_random_player_stats()"
   ]
  },
  {
   "cell_type": "code",
   "execution_count": 4,
   "id": "00393d32-8472-4108-8f33-2ca5f84f291c",
   "metadata": {},
   "outputs": [
    {
     "name": "stdout",
     "output_type": "stream",
     "text": [
      "\n",
      "Analyzing strong team...\n",
      "\n",
      "----- Team Composition Analysis -----\n",
      "Predicted Win Rate: 66.58%\n",
      "\n",
      "Predicted Team Stats:\n",
      "- K:D: 1.5775\n",
      "- GPM: 1940.3921\n",
      "- GDM: 249.7160\n",
      "- Kills / game: 14.6191\n",
      "- Towers killed: 9.0807\n",
      "- Towers lost: 2.7715\n",
      "- NASH%: 80.7685\n",
      "- DPM: 2286.5295\n",
      "\n",
      "Role Impact Analysis:\n",
      "- TOP: Impact Score = 8.69\n",
      "- JUNGLE: Impact Score = 7.41\n",
      "- MID: Impact Score = 11.52\n",
      "- ADC: Impact Score = 12.65\n",
      "- SUPPORT: Impact Score = 5.43\n",
      "\n",
      "Team Strengths:\n",
      "- K:D: 1.58\n",
      "- GPM: 1940.39\n",
      "- GDM: 249.72\n",
      "- Kills / game: 14.62\n",
      "- DPM: 2286.53\n",
      "\n",
      "No significant weaknesses detected.\n",
      "\n",
      "Recommendations:\n",
      "- This team composition has good potential for success.\n",
      "- Maintain consistent performance to achieve the predicted win rate.\n"
     ]
    }
   ],
   "source": [
    "print(\"\\nAnalyzing strong team...\")\n",
    "strong_win_rate, strong_analysis = evaluate_team_composition(\n",
    "    strong_team, player_to_feature_models, feature_to_win_rate_model, key_features\n",
    ")\n",
    "print_team_analysis(strong_analysis)"
   ]
  },
  {
   "cell_type": "code",
   "execution_count": 5,
   "id": "4bd876e7-46ba-4a4a-aa7c-c5d5d6baecd8",
   "metadata": {},
   "outputs": [
    {
     "name": "stdout",
     "output_type": "stream",
     "text": [
      "\n",
      "Analyzing weak team...\n",
      "\n",
      "----- Team Composition Analysis -----\n",
      "Predicted Win Rate: 26.13%\n",
      "\n",
      "Predicted Team Stats:\n",
      "- K:D: 0.4378\n",
      "- GPM: 1628.1525\n",
      "- GDM: -239.5022\n",
      "- Kills / game: 7.8652\n",
      "- Towers killed: 3.7935\n",
      "- Towers lost: 9.2294\n",
      "- NASH%: 37.0381\n",
      "- DPM: 1749.4049\n",
      "\n",
      "Role Impact Analysis:\n",
      "- TOP: Impact Score = 6.11\n",
      "- JUNGLE: Impact Score = 5.33\n",
      "- MID: Impact Score = 7.54\n",
      "- ADC: Impact Score = 8.29\n",
      "- SUPPORT: Impact Score = 2.96\n",
      "\n",
      "No significant strengths detected.\n",
      "\n",
      "Team Weaknesses:\n",
      "- K:D: 0.44\n",
      "- GPM: 1628.15\n",
      "- GDM: -239.50\n",
      "- Kills / game: 7.87\n",
      "- DPM: 1749.40\n",
      "\n",
      "Recommendations:\n",
      "- This team composition has a low predicted win rate.\n",
      "- Consider adjusting player roles or selecting players with better synergy.\n",
      "- The TOP player should focus on lane dominance and early-game CSing.\n",
      "- The JUNGLE player should improve vision control for better map awareness.\n",
      "- The MID player should aim for more damage output in team fights.\n",
      "- The ADC player should focus on positioning to improve survival in fights.\n",
      "- The SUPPORT player should improve team fight participation for more assists.\n"
     ]
    }
   ],
   "source": [
    "print(\"\\nAnalyzing weak team...\")\n",
    "weak_win_rate, weak_analysis = evaluate_team_composition(\n",
    "    weak_team, player_to_feature_models, feature_to_win_rate_model, key_features\n",
    ")\n",
    "print_team_analysis(weak_analysis)"
   ]
  },
  {
   "cell_type": "code",
   "execution_count": 6,
   "id": "c2ca22c0-d447-4336-9ad6-9eed6156b74d",
   "metadata": {},
   "outputs": [
    {
     "name": "stdout",
     "output_type": "stream",
     "text": [
      "\n",
      "Analyzing random team...\n",
      "\n",
      "----- Team Composition Analysis -----\n",
      "Predicted Win Rate: 55.81%\n",
      "\n",
      "Predicted Team Stats:\n",
      "- K:D: 1.0751\n",
      "- GPM: 1797.9748\n",
      "- GDM: 18.9882\n",
      "- Kills / game: 12.3630\n",
      "- Towers killed: 6.8757\n",
      "- Towers lost: 5.9850\n",
      "- NASH%: 63.0247\n",
      "- DPM: 2226.6346\n",
      "\n",
      "Role Impact Analysis:\n",
      "- TOP: Impact Score = 5.87\n",
      "- JUNGLE: Impact Score = 5.98\n",
      "- MID: Impact Score = 10.78\n",
      "- ADC: Impact Score = 8.80\n",
      "- SUPPORT: Impact Score = 4.60\n",
      "\n",
      "Team Strengths:\n",
      "- Kills / game: 12.36\n",
      "- DPM: 2226.63\n",
      "\n",
      "No significant weaknesses detected.\n",
      "\n",
      "Recommendations:\n",
      "- This team composition has good potential for success.\n",
      "- Maintain consistent performance to achieve the predicted win rate.\n",
      "- The ADC player should focus on positioning to improve survival in fights.\n"
     ]
    }
   ],
   "source": [
    "print(\"\\nAnalyzing random team...\")\n",
    "random_win_rate, random_analysis = evaluate_team_composition(\n",
    "    random_team, player_to_feature_models, feature_to_win_rate_model, key_features\n",
    ")\n",
    "print_team_analysis(random_analysis)"
   ]
  },
  {
   "cell_type": "code",
   "execution_count": 7,
   "id": "edd12a16-c4c4-460f-8433-dc039750b08b",
   "metadata": {},
   "outputs": [
    {
     "name": "stdout",
     "output_type": "stream",
     "text": [
      "Starting optimization of random team...\n",
      "Initial win rate: 0.5581 (55.81%)\n",
      "Iteration 10: Improved win rate to 0.6580\n",
      "Optimization progress plot saved to 'optimization_progress.png'\n",
      "\n",
      "Analyzing optimized team...\n",
      "\n",
      "----- Team Composition Analysis -----\n",
      "Predicted Win Rate: 66.05%\n",
      "\n",
      "Predicted Team Stats:\n",
      "- K:D: 1.2466\n",
      "- GPM: 1884.5504\n",
      "- GDM: 156.5889\n",
      "- Kills / game: 13.9372\n",
      "- Towers killed: 8.1908\n",
      "- Towers lost: 4.4869\n",
      "- NASH%: 77.3314\n",
      "- DPM: 2354.8950\n",
      "\n",
      "Role Impact Analysis:\n",
      "- TOP: Impact Score = 6.07\n",
      "- JUNGLE: Impact Score = 6.58\n",
      "- MID: Impact Score = 9.66\n",
      "- ADC: Impact Score = 8.71\n",
      "- SUPPORT: Impact Score = 4.59\n",
      "\n",
      "Team Strengths:\n",
      "- K:D: 1.25\n",
      "- GPM: 1884.55\n",
      "- GDM: 156.59\n",
      "- Kills / game: 13.94\n",
      "- DPM: 2354.89\n",
      "\n",
      "No significant weaknesses detected.\n",
      "\n",
      "Recommendations:\n",
      "- This team composition has good potential for success.\n",
      "- Maintain consistent performance to achieve the predicted win rate.\n",
      "- The ADC player should focus on positioning to improve survival in fights.\n",
      "\n",
      "Improvement Summary:\n",
      "Original win rate: 55.81%\n",
      "Optimized win rate: 66.05%\n",
      "Absolute improvement: 10.24%\n",
      "Relative improvement: 18.35%\n"
     ]
    }
   ],
   "source": [
    "# Team Optimization Demo\n",
    "print(\"Starting optimization of random team...\")\n",
    "print(f\"Initial win rate: {random_win_rate:.4f} ({random_win_rate*100:.2f}%)\")\n",
    "\n",
    "# Run optimization\n",
    "optimized_team, improvement_log = create_optimal_team(\n",
    "    random_team, \n",
    "    player_to_feature_models, \n",
    "    feature_to_win_rate_model, \n",
    "    key_features,\n",
    "    n_iterations=50  # Increase for better results\n",
    ")\n",
    "\n",
    "# Plot optimization progress\n",
    "fig = plot_optimization_progress(improvement_log, title=\"Team Optimization Progress\")\n",
    "plt.savefig('optimization_progress.png')\n",
    "plt.close()\n",
    "print(\"Optimization progress plot saved to 'optimization_progress.png'\")\n",
    "\n",
    "# Analyze optimized team\n",
    "optimized_win_rate, optimized_analysis = evaluate_team_composition(\n",
    "    optimized_team, player_to_feature_models, feature_to_win_rate_model, key_features\n",
    ")\n",
    "print(\"\\nAnalyzing optimized team...\")\n",
    "print_team_analysis(optimized_analysis)\n",
    "\n",
    "# Compare original and optimized teams\n",
    "print(\"\\nImprovement Summary:\")\n",
    "print(f\"Original win rate: {random_analysis['win_rate_percent']:.2f}%\")\n",
    "print(f\"Optimized win rate: {optimized_analysis['win_rate_percent']:.2f}%\")\n",
    "print(f\"Absolute improvement: {optimized_analysis['win_rate_percent'] - random_analysis['win_rate_percent']:.2f}%\")\n",
    "print(f\"Relative improvement: {((optimized_analysis['win_rate'] / random_analysis['win_rate']) - 1) * 100:.2f}%\")"
   ]
  },
  {
   "cell_type": "code",
   "execution_count": 8,
   "id": "2b3132d3-b550-4eee-8797-2f1ac4a7883e",
   "metadata": {},
   "outputs": [
    {
     "name": "stdout",
     "output_type": "stream",
     "text": [
      "\n",
      "Creating variants of the strong team...\n",
      "Analyzing Team Variant 1...\n",
      "Win Rate: 66.58%\n",
      "Analyzing Team Variant 2...\n",
      "Win Rate: 66.58%\n",
      "Analyzing Team Variant 3...\n",
      "Win Rate: 66.21%\n",
      "Analyzing Team Variant 4...\n",
      "Win Rate: 66.58%\n"
     ]
    },
    {
     "data": {
      "image/png": "[encoded data removed]",
      "text/plain": [
       "<Figure size 1000x600 with 1 Axes>"
      ]
     },
     "metadata": {},
     "output_type": "display_data"
    }
   ],
   "source": [
    "# Team Variant Comparison\n",
    "# Create variants of the strong team\n",
    "print(\"\\nCreating variants of the strong team...\")\n",
    "team_variants = create_team_variants(strong_team, n_variants=3)\n",
    "\n",
    "# Analyze all variants\n",
    "variant_analyses = []\n",
    "for i, variant in enumerate(team_variants):\n",
    "    print(f\"Analyzing Team Variant {i+1}...\")\n",
    "    _, analysis = evaluate_team_composition(\n",
    "        variant, player_to_feature_models, feature_to_win_rate_model, key_features\n",
    "    )\n",
    "    variant_analyses.append(analysis)\n",
    "    print(f\"Win Rate: {analysis['win_rate_percent']:.2f}%\")\n",
    "\n",
    "# Plot comparison\n",
    "fig = plot_team_comparison(variant_analyses, title=\"Team Variants Win Rate Comparison\")\n",
    "plt.show()"
   ]
  },
  {
   "cell_type": "code",
   "execution_count": 9,
   "id": "0f6d2f6f-3de3-411e-8905-0c000619bdc1",
   "metadata": {},
   "outputs": [
    {
     "name": "stdout",
     "output_type": "stream",
     "text": [
      "Analyzing Team Variant 1...\n",
      "Analyzing Team Variant 2...\n",
      "Analyzing Team Variant 3...\n",
      "Analyzing Team Variant 4...\n"
     ]
    },
    {
     "data": {
      "text/plain": [
       "<Figure size 1200x800 with 0 Axes>"
      ]
     },
     "metadata": {},
     "output_type": "display_data"
    },
    {
     "data": {
      "image/png": "[encoded data removed]",
      "text/plain": [
       "<Figure size 1200x800 with 1 Axes>"
      ]
     },
     "metadata": {},
     "output_type": "display_data"
    }
   ],
   "source": [
    "team_variants = create_team_variants(random_team, n_variants=3)\n",
    "\n",
    "# Analyze all variants to get their analysis data\n",
    "variant_analyses = []\n",
    "for i, variant in enumerate(team_variants):\n",
    "    print(f\"Analyzing Team Variant {i+1}...\")\n",
    "    _, analysis = evaluate_team_composition(\n",
    "        variant, player_to_feature_models, feature_to_win_rate_model, key_features\n",
    "    )\n",
    "    variant_analyses.append(analysis)\n",
    "\n",
    "# Call the plot_role_impact function to visualize role contributions\n",
    "plt.figure(figsize=(12, 8))\n",
    "fig = plot_role_impact(variant_analyses, title=\"Role Impact Comparison Across Team Variants\")\n",
    "plt.tight_layout()\n",
    "\n",
    "# Either display the plot in a notebook\n",
    "plt.show()"
   ]
  },
  {
   "cell_type": "code",
   "execution_count": null,
   "id": "848d38d3-7b6b-450d-a140-b61d83eb914b",
   "metadata": {},
   "outputs": [],
   "source": []
  }
 ],
 "metadata": {
  "kernelspec": {
   "display_name": "Python 3 (ipykernel)",
   "language": "python",
   "name": "python3"
  },
  "language_info": {
   "codemirror_mode": {
    "name": "ipython",
    "version": 3
   },
   "file_extension": ".py",
   "mimetype": "text/x-python",
   "name": "python",
   "nbconvert_exporter": "python",
   "pygments_lexer": "ipython3",
   "version": "3.12.9"
  }
 },
 "nbformat": 4,
 "nbformat_minor": 5
}
