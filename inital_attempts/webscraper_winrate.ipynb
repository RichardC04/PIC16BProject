{
 "cells": [
  {
   "cell_type": "code",
   "execution_count": 1,
   "id": "b617af22-7539-4c4d-aca9-b73b8de02ca3",
   "metadata": {},
   "outputs": [
    {
     "name": "stdout",
     "output_type": "stream",
     "text": [
      "Requirement already satisfied: selenium in c:\\users\\13053\\anaconda3\\lib\\site-packages (4.29.0)\n",
      "Requirement already satisfied: urllib3<3,>=1.26 in c:\\users\\13053\\anaconda3\\lib\\site-packages (from urllib3[socks]<3,>=1.26->selenium) (2.2.2)\n",
      "Requirement already satisfied: trio~=0.17 in c:\\users\\13053\\anaconda3\\lib\\site-packages (from selenium) (0.29.0)\n",
      "Requirement already satisfied: trio-websocket~=0.9 in c:\\users\\13053\\anaconda3\\lib\\site-packages (from selenium) (0.12.2)\n",
      "Requirement already satisfied: certifi>=2021.10.8 in c:\\users\\13053\\anaconda3\\lib\\site-packages (from selenium) (2024.12.14)\n",
      "Requirement already satisfied: typing_extensions~=4.9 in c:\\users\\13053\\anaconda3\\lib\\site-packages (from selenium) (4.11.0)\n",
      "Requirement already satisfied: websocket-client~=1.8 in c:\\users\\13053\\anaconda3\\lib\\site-packages (from selenium) (1.8.0)\n",
      "Requirement already satisfied: attrs>=23.2.0 in c:\\users\\13053\\anaconda3\\lib\\site-packages (from trio~=0.17->selenium) (25.1.0)\n",
      "Requirement already satisfied: sortedcontainers in c:\\users\\13053\\anaconda3\\lib\\site-packages (from trio~=0.17->selenium) (2.4.0)\n",
      "Requirement already satisfied: idna in c:\\users\\13053\\anaconda3\\lib\\site-packages (from trio~=0.17->selenium) (3.7)\n",
      "Requirement already satisfied: outcome in c:\\users\\13053\\anaconda3\\lib\\site-packages (from trio~=0.17->selenium) (1.3.0.post0)\n",
      "Requirement already satisfied: sniffio>=1.3.0 in c:\\users\\13053\\anaconda3\\lib\\site-packages (from trio~=0.17->selenium) (1.3.0)\n",
      "Requirement already satisfied: cffi>=1.14 in c:\\users\\13053\\anaconda3\\lib\\site-packages (from trio~=0.17->selenium) (1.16.0)\n",
      "Requirement already satisfied: wsproto>=0.14 in c:\\users\\13053\\anaconda3\\lib\\site-packages (from trio-websocket~=0.9->selenium) (1.2.0)\n",
      "Requirement already satisfied: pysocks!=1.5.7,<2.0,>=1.5.6 in c:\\users\\13053\\anaconda3\\lib\\site-packages (from urllib3[socks]<3,>=1.26->selenium) (1.7.1)\n",
      "Requirement already satisfied: pycparser in c:\\users\\13053\\anaconda3\\lib\\site-packages (from cffi>=1.14->trio~=0.17->selenium) (2.21)\n",
      "Requirement already satisfied: h11<1,>=0.9.0 in c:\\users\\13053\\anaconda3\\lib\\site-packages (from wsproto>=0.14->trio-websocket~=0.9->selenium) (0.14.0)\n"
     ]
    }
   ],
   "source": [
    "!pip install selenium"
   ]
  },
  {
   "cell_type": "code",
   "execution_count": 2,
   "id": "03d71920-29ab-422d-91d7-8b32f2aff0be",
   "metadata": {},
   "outputs": [
    {
     "name": "stdout",
     "output_type": "stream",
     "text": [
      "Requirement already satisfied: webdriver-manager in c:\\users\\13053\\anaconda3\\lib\\site-packages (4.0.2)\n",
      "Requirement already satisfied: requests in c:\\users\\13053\\anaconda3\\lib\\site-packages (from webdriver-manager) (2.32.2)\n",
      "Requirement already satisfied: python-dotenv in c:\\users\\13053\\anaconda3\\lib\\site-packages (from webdriver-manager) (0.21.0)\n",
      "Requirement already satisfied: packaging in c:\\users\\13053\\anaconda3\\lib\\site-packages (from webdriver-manager) (23.2)\n",
      "Requirement already satisfied: charset-normalizer<4,>=2 in c:\\users\\13053\\anaconda3\\lib\\site-packages (from requests->webdriver-manager) (2.0.4)\n",
      "Requirement already satisfied: idna<4,>=2.5 in c:\\users\\13053\\anaconda3\\lib\\site-packages (from requests->webdriver-manager) (3.7)\n",
      "Requirement already satisfied: urllib3<3,>=1.21.1 in c:\\users\\13053\\anaconda3\\lib\\site-packages (from requests->webdriver-manager) (2.2.2)\n",
      "Requirement already satisfied: certifi>=2017.4.17 in c:\\users\\13053\\anaconda3\\lib\\site-packages (from requests->webdriver-manager) (2024.12.14)\n"
     ]
    }
   ],
   "source": [
    "!pip install webdriver-manager"
   ]
  },
  {
   "cell_type": "code",
   "execution_count": 3,
   "id": "4327f9d8-f9f8-41f4-9b49-6c6bfc7d3705",
   "metadata": {
    "tags": []
   },
   "outputs": [],
   "source": [
    "from selenium import webdriver\n",
    "from selenium.webdriver.chrome.service import Service as ChromeService\n",
    "from webdriver_manager.chrome import ChromeDriverManager\n",
    "from selenium.webdriver.common.by import By\n",
    "from bs4 import BeautifulSoup\n",
    "import time\n",
    "import pandas as pd\n",
    "\n",
    "def get_role_data(role=\"TOP\"):\n",
    "    driver = webdriver.Chrome(service=ChromeService(ChromeDriverManager().install()))\n",
    "    driver.get(\"https://gol.gg/players/list/season-S15/split-ALL/tournament-LCK%20Spring%202024/\")\n",
    "\n",
    "    extracted_data = {}\n",
    "\n",
    "    try:\n",
    "        # 2) Locate the hidden input and set it to 'role'\n",
    "        hidden_role = driver.find_element(By.ID, \"hiddenfieldrole\")\n",
    "        driver.execute_script(\"arguments[0].value = arguments[1];\", hidden_role, role)\n",
    "\n",
    "        # 3) Locate and submit the form\n",
    "        form = driver.find_element(By.ID, \"FilterForm\")\n",
    "        form.submit()\n",
    "\n",
    "        # 4) Wait for the new page to load\n",
    "        time.sleep(5)  # or use an explicit wait if needed\n",
    "\n",
    "        # 5) Parse the updated page with BeautifulSoup\n",
    "        soup = BeautifulSoup(driver.page_source, 'html.parser')\n",
    "\n",
    "        # 6) Locate the updated table\n",
    "        table = soup.select_one(\"table.table_list.playerslist.tablesaw.trhover.tablesaw-swipe.tablesaw-sortable\")\n",
    "        if table:\n",
    "            # Extract rows\n",
    "            rows = table.find_all('tr')\n",
    "            table_data = []\n",
    "            for row in rows:\n",
    "                cells = row.find_all(['td', 'th'])\n",
    "                cell_texts = [cell.get_text(strip=True) for cell in cells]\n",
    "                if cell_texts:\n",
    "                    table_data.append(cell_texts)\n",
    "\n",
    "            # Build a dict-of-dicts from the table\n",
    "            if len(table_data) > 1:\n",
    "                headers = table_data[0]  # first row: column names\n",
    "                for i in range(1, len(table_data)):\n",
    "                    row_key = table_data[i][0]  # e.g. player name\n",
    "                    row_dict = {}\n",
    "                    for j in range(1, len(headers)):\n",
    "                        if j < len(table_data[i]):\n",
    "                            row_dict[headers[j]] = table_data[i][j]\n",
    "                    extracted_data[row_key] = row_dict\n",
    "            else:\n",
    "                print(\"No valid data rows found for role:\", role)\n",
    "        else:\n",
    "            print(\"Table not found for role:\", role)\n",
    "\n",
    "    finally:\n",
    "        # 7) Close the browser\n",
    "        driver.quit()\n",
    "\n",
    "    return extracted_data"
   ]
  },
  {
   "cell_type": "code",
   "execution_count": 4,
   "id": "ceec91cc-ef43-4b84-a27d-987f142b0165",
   "metadata": {},
   "outputs": [],
   "source": [
    "top_data = get_role_data(role=\"TOP\")\n",
    "jg_data = get_role_data(role=\"JUNGLE\")\n",
    "mid_data = get_role_data(role=\"MID\")\n",
    "support_data = get_role_data(role=\"SUPPORT\")\n",
    "bot_data = get_role_data(role=\"ADC\")"
   ]
  },
  {
   "cell_type": "code",
   "execution_count": 5,
   "id": "fa4c3d2e-138a-4771-ab2d-d8afe88f6d2b",
   "metadata": {},
   "outputs": [
    {
     "name": "stdout",
     "output_type": "stream",
     "text": [
      "0.864520053090331\n",
      "Feature weights:\n",
      "Games: 0.0021\n",
      "KDA: 0.0515\n",
      "Avg kills: -0.0621\n",
      "Avg deaths: 0.0177\n",
      "Avg assists: 0.0441\n",
      "CSM: -0.1622\n",
      "GPM: 0.0075\n",
      "DPM: 0.0001\n",
      "VSPM: -0.1179\n",
      "Avg WPM: 0.3255\n",
      "Avg WCPM: 0.2103\n",
      "Avg VWPM: -0.1152\n",
      "GD@15: -0.0000\n",
      "CSD@15: 0.0035\n",
      "XPD@15: -0.0001\n",
      "Penta Kills: 0.0066\n",
      "Solo Kills: 0.0039\n",
      "Position_JUNGLE: 0.2165\n",
      "Position_MID: 0.1462\n",
      "Position_SUPPORT: -0.2863\n",
      "Position_TOP: 0.2690\n"
     ]
    }
   ],
   "source": [
    "import numpy as np\n",
    "from sklearn.model_selection import train_test_split\n",
    "from sklearn.linear_model import LinearRegression\n",
    "from sklearn.metrics import mean_squared_error, r2_score\n",
    "\n",
    "# Convert dictionary into DataFrame\n",
    "# add a 'Position' column\n",
    "dfs = []\n",
    "roles = [(\"TOP\", top_data), (\"JUNGLE\", jg_data), (\"MID\", mid_data), (\"SUPPORT\", support_data), (\"ADC\", bot_data)]\n",
    "for role, data in roles:\n",
    "    df_role = pd.DataFrame.from_dict(data, orient='index')\n",
    "    df_role['Position'] = role\n",
    "    dfs.append(df_role)\n",
    "    \n",
    "\n",
    "df = pd.concat(dfs)\n",
    "\n",
    "# Convert percentage to float values\n",
    "def percentage_to_float(x):\n",
    "    if isinstance(x, str):\n",
    "        try:\n",
    "            return float(x.strip().strip('%')) / 100.0\n",
    "        except:\n",
    "            return np.nan\n",
    "    return x\n",
    "for col in ['Win rate', 'KP%', 'FB %', 'FB Victim']:\n",
    "    if col in df.columns:\n",
    "        df[col] = df[col].apply(percentage_to_float)\n",
    "\n",
    "# Data cleaning: drop NaN, missing value, country\n",
    "numeric_columns = ['Games', 'KDA', 'Avg kills', 'Avg deaths', 'Avg assists',\n",
    "                   'CSM', 'GPM', 'DPM', 'VSPM', 'Avg WPM', 'Avg WCPM', 'Avg VWPM',\n",
    "                   'GD@15', 'CSD@15', 'XPD@15', 'Penta Kills', 'Solo Kills']\n",
    "for col in numeric_columns:\n",
    "    if col in df.columns:\n",
    "        df[col] = pd.to_numeric(df[col].astype(str).str.replace(',', '').str.strip(), errors='coerce')\n",
    "required_cols = numeric_columns + ['Win rate']\n",
    "df = df.dropna(subset=required_cols)\n",
    "if 'Country' in df.columns:\n",
    "    df = df.drop(columns=['Country'])\n",
    "df = pd.get_dummies(df, columns=['Position'], drop_first=True)\n",
    "\n",
    "# Define features and target variable\n",
    "features = numeric_columns + [col for col in df.columns if col.startswith(\"Position_\")]\n",
    "X = df[features]\n",
    "y = df['Win rate']\n",
    "\n",
    "# Split the data into training and test sets.\n",
    "X_train, X_test, y_train, y_test = train_test_split(X, y, test_size=0.2, random_state=42)\n",
    "\n",
    "# Train the Linear Regression model\n",
    "model = LinearRegression()\n",
    "model.fit(X_train, y_train)\n",
    "\n",
    "# Evaluate the model\n",
    "print(model.score(X_test, y_test))\n",
    "\n",
    "# Print out the weights for each feature.\n",
    "print(\"Feature weights:\")\n",
    "for feature, coef in zip(features, model.coef_):\n",
    "    print(f\"{feature}: {coef:.4f}\")"
   ]
  },
  {
   "cell_type": "code",
   "execution_count": null,
   "id": "f69b3b76-9169-4eb2-b809-6d62b6ce9886",
   "metadata": {},
   "outputs": [],
   "source": []
  }
 ],
 "metadata": {
  "kernelspec": {
   "display_name": "Python 3 (ipykernel)",
   "language": "python",
   "name": "python3"
  },
  "language_info": {
   "codemirror_mode": {
    "name": "ipython",
    "version": 3
   },
   "file_extension": ".py",
   "mimetype": "text/x-python",
   "name": "python",
   "nbconvert_exporter": "python",
   "pygments_lexer": "ipython3",
   "version": "3.12.3"
  }
 },
 "nbformat": 4,
 "nbformat_minor": 5
}
